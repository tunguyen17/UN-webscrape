{
 "cells": [
  {
   "cell_type": "code",
   "execution_count": 28,
   "metadata": {},
   "outputs": [],
   "source": [
    "import pandas as pd"
   ]
  },
  {
   "cell_type": "code",
   "execution_count": 30,
   "metadata": {},
   "outputs": [],
   "source": [
    "data  = pd.read_csv('data.tsv', sep = '\\t')"
   ]
  },
  {
   "cell_type": "code",
   "execution_count": 31,
   "metadata": {},
   "outputs": [],
   "source": [
    "temp = data.groupby('Title').count()"
   ]
  },
  {
   "cell_type": "code",
   "execution_count": 32,
   "metadata": {},
   "outputs": [
    {
     "data": {
      "text/plain": [
       "[\"u'Caribbean Centre for Renewable Energy and Energy Efficiency (CCREEE)'\",\n",
       " \"u'Conciencia Martima'\",\n",
       " \"u'Energy Saving and Efficiency Strategy'\",\n",
       " \"u'Enhancing research and awareness on the impact of ocean acidification and climate change on tropical marine ecosystems'\",\n",
       " \"u'Global Coral Reef Partnership'\",\n",
       " \"u'Global Wastewater Initiative (GW2I)'\",\n",
       " \"u'Maintaining and Growing Canadas Independent Fishermen: Policy Implementation and Capacity Development'\",\n",
       " \"u'Pacific Centre for Renewable Energy and Energy Efficiency (PCREEE)'\",\n",
       " \"u'Provision of subject matter expertise on the application of risk management tools in regulatory frameworks supporting SDG14'\",\n",
       " \"u'Reduction in water usage'\",\n",
       " \"u'Renewable Energy from Coral and Karstic Formation'\",\n",
       " \"u'The Electronic Product Environmental Assessment Tool'\",\n",
       " \"u'UNESCO Chair in Community Based Research and Social Responsibility in Higher Education'\"]"
      ]
     },
     "execution_count": 32,
     "metadata": {},
     "output_type": "execute_result"
    }
   ],
   "source": [
    "list(temp[temp['Project_idx'] > 1].index)"
   ]
  },
  {
   "cell_type": "code",
   "execution_count": 33,
   "metadata": {},
   "outputs": [
    {
     "data": {
      "text/html": [
       "<div>\n",
       "<style scoped>\n",
       "    .dataframe tbody tr th:only-of-type {\n",
       "        vertical-align: middle;\n",
       "    }\n",
       "\n",
       "    .dataframe tbody tr th {\n",
       "        vertical-align: top;\n",
       "    }\n",
       "\n",
       "    .dataframe thead th {\n",
       "        text-align: right;\n",
       "    }\n",
       "</style>\n",
       "<table border=\"1\" class=\"dataframe\">\n",
       "  <thead>\n",
       "    <tr style=\"text-align: right;\">\n",
       "      <th></th>\n",
       "      <th>Project_idx</th>\n",
       "      <th>Title</th>\n",
       "      <th>Goals</th>\n",
       "      <th>Partners</th>\n",
       "      <th>Description</th>\n",
       "      <th>Resources</th>\n",
       "      <th>Time_frame</th>\n",
       "      <th>Countries</th>\n",
       "      <th>Hashtag</th>\n",
       "    </tr>\n",
       "  </thead>\n",
       "  <tbody>\n",
       "    <tr>\n",
       "      <th>1506</th>\n",
       "      <td>'07504'</td>\n",
       "      <td>u'Caribbean Centre for Renewable Energy and En...</td>\n",
       "      <td>u'Goal 7,Goal 9,Goal 13'</td>\n",
       "      <td>u'SIDS DOCK || Austria || Barbados || Caribbea...</td>\n",
       "      <td>': Description/achievement of initiative\\nThe ...</td>\n",
       "      <td>u'Other, please specify : Austrian Development...</td>\n",
       "      <td>u'Time-frame: September 2014 - December 2025'</td>\n",
       "      <td>u'Antigua and Barbuda,Bahamas,Barbados,Belize,...</td>\n",
       "      <td>u'#SDGAction7504'</td>\n",
       "    </tr>\n",
       "    <tr>\n",
       "      <th>2543</th>\n",
       "      <td>'16510'</td>\n",
       "      <td>u'Caribbean Centre for Renewable Energy and En...</td>\n",
       "      <td>'Goal 14,Goal 7,Goal 13'</td>\n",
       "      <td>u'United Nations Industrial Development Organi...</td>\n",
       "      <td>u'The project aims to support the Caribbean (C...</td>\n",
       "      <td>u'Financing (in USD) : 1,160,000 USD'</td>\n",
       "      <td>u'Time-frame: 2016 December  - 2018 December '</td>\n",
       "      <td>''</td>\n",
       "      <td>u'#OceanAction16510'</td>\n",
       "    </tr>\n",
       "  </tbody>\n",
       "</table>\n",
       "</div>"
      ],
      "text/plain": [
       "     Project_idx                                              Title  \\\n",
       "1506     '07504'  u'Caribbean Centre for Renewable Energy and En...   \n",
       "2543     '16510'  u'Caribbean Centre for Renewable Energy and En...   \n",
       "\n",
       "                         Goals  \\\n",
       "1506  u'Goal 7,Goal 9,Goal 13'   \n",
       "2543  'Goal 14,Goal 7,Goal 13'   \n",
       "\n",
       "                                               Partners  \\\n",
       "1506  u'SIDS DOCK || Austria || Barbados || Caribbea...   \n",
       "2543  u'United Nations Industrial Development Organi...   \n",
       "\n",
       "                                            Description  \\\n",
       "1506  ': Description/achievement of initiative\\nThe ...   \n",
       "2543  u'The project aims to support the Caribbean (C...   \n",
       "\n",
       "                                              Resources  \\\n",
       "1506  u'Other, please specify : Austrian Development...   \n",
       "2543              u'Financing (in USD) : 1,160,000 USD'   \n",
       "\n",
       "                                          Time_frame  \\\n",
       "1506   u'Time-frame: September 2014 - December 2025'   \n",
       "2543  u'Time-frame: 2016 December  - 2018 December '   \n",
       "\n",
       "                                              Countries               Hashtag  \n",
       "1506  u'Antigua and Barbuda,Bahamas,Barbados,Belize,...     u'#SDGAction7504'  \n",
       "2543                                                 ''  u'#OceanAction16510'  "
      ]
     },
     "execution_count": 33,
     "metadata": {},
     "output_type": "execute_result"
    }
   ],
   "source": [
    "data[data['Title'] == \"u'Caribbean Centre for Renewable Energy and Energy Efficiency (CCREEE)'\"]"
   ]
  },
  {
   "cell_type": "code",
   "execution_count": null,
   "metadata": {},
   "outputs": [],
   "source": []
  }
 ],
 "metadata": {
  "kernelspec": {
   "display_name": "Python 3",
   "language": "python",
   "name": "python3"
  },
  "language_info": {
   "codemirror_mode": {
    "name": "ipython",
    "version": 3
   },
   "file_extension": ".py",
   "mimetype": "text/x-python",
   "name": "python",
   "nbconvert_exporter": "python",
   "pygments_lexer": "ipython3",
   "version": "3.6.4"
  }
 },
 "nbformat": 4,
 "nbformat_minor": 2
}
