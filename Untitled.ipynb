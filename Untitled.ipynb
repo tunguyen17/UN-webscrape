{
 "cells": [
  {
   "cell_type": "code",
   "execution_count": 40,
   "metadata": {},
   "outputs": [],
   "source": [
    "import requests\n",
    "from bs4 import BeautifulSoup\n",
    "import re"
   ]
  },
  {
   "cell_type": "code",
   "execution_count": 110,
   "metadata": {},
   "outputs": [],
   "source": [
    "url = 'https://sustainabledevelopment.un.org/partnership/?p=26410'\n",
    "raw_data = requests.get(url).text\n",
    "\n",
    "soup = BeautifulSoup(raw_data, 'html.parser')"
   ]
  },
  {
   "cell_type": "markdown",
   "metadata": {},
   "source": [
    "# title"
   ]
  },
  {
   "cell_type": "code",
   "execution_count": 111,
   "metadata": {},
   "outputs": [
    {
     "data": {
      "text/plain": [
       "'KAILA! Pacific Voice For Action on Agenda 2030, Strengthening Climate Change Resilience through women\\x92s, children\\x92s and adolescent health '"
      ]
     },
     "execution_count": 111,
     "metadata": {},
     "output_type": "execute_result"
    }
   ],
   "source": [
    "title = soup.find(id = 'headline').get_text()\n",
    "title"
   ]
  },
  {
   "cell_type": "markdown",
   "metadata": {},
   "source": [
    "# goals"
   ]
  },
  {
   "cell_type": "code",
   "execution_count": 112,
   "metadata": {},
   "outputs": [
    {
     "data": {
      "text/plain": [
       "['Goal 3', 'Goal 5']"
      ]
     },
     "execution_count": 112,
     "metadata": {},
     "output_type": "execute_result"
    }
   ],
   "source": [
    "goals_raw = soup.find(id='targets')\n",
    "goals_lst = [goal.get_text() for goal in goals_raw.findAll('strong')]\n",
    "\n",
    "goals_lst"
   ]
  },
  {
   "cell_type": "markdown",
   "metadata": {},
   "source": [
    "# resources"
   ]
  },
  {
   "cell_type": "code",
   "execution_count": 113,
   "metadata": {},
   "outputs": [
    {
     "data": {
      "text/plain": [
       "['In-kind contribution : US$200,000 for Experts consultations and Ministerial meeting in Fiji (Oct, 2015), including technical expertise from WHO, UNFPA, SPC, USP, PIDF']"
      ]
     },
     "execution_count": 113,
     "metadata": {},
     "output_type": "execute_result"
    }
   ],
   "source": [
    "resources_raw = soup.find(id='resources')\n",
    "resources_lst = []\n",
    "\n",
    "for resource in resources_raw.findAll('div', recursive = False):\n",
    "    temp = resource.get_text()\n",
    "    \n",
    "    if temp != '':\n",
    "        temp = re.sub(r'\\n+', ' : ', temp.strip())\n",
    "        resources_lst.append(temp.strip())\n",
    "\n",
    "resources_lst"
   ]
  },
  {
   "cell_type": "markdown",
   "metadata": {},
   "source": [
    "# description"
   ]
  },
  {
   "cell_type": "code",
   "execution_count": 123,
   "metadata": {},
   "outputs": [
    {
     "name": "stdout",
     "output_type": "stream",
     "text": [
      "Description/achievement of initiative\n",
      "Fiji and UNFPA hosted a Pacific regional experts consultation and Health Ministers meeting on strengthening climate change resilience through reproductive, maternal, newborn, child and adolescent health (RMNCAH). Fourteen Pacific SIDS, UN H4+, SPC, PIDF, USP, and HRH Princess Sarah Zeid of Jordan, a global advocate for women and childrens health and EWEC leader in humanitarian work, adapted a global strategy, building on the SAMOA Pathway priorities Climate Change, Disaster Risk Reduction, Health, and Gender Equality. KAILA! Pacific Voice For Action on Agenda 2030 is a declaration, forward looking, common voice on strengthening climate change resilience through RMNCAH in Pacific SIDS.\n",
      " \n",
      " \n",
      "Implementation methodologies\n",
      "Implementation included a two-day meeting of humanitarian, RMNCA health, development and climate change experts to further consider RMNCAH challenges and lessons given climate change impacts and to propose strategies on strengthening resilience for Pacific Islander women, children and adolescents. this was followed by a one-day Ministerial meeting, convened by the Government of Fiji, to consider the outcomes of the experts meeting and establish a way forward, including for positioning of investments in the PICs for reproductive, maternal, newborn and adolescent health, particularly in the context of EWEC and the SAMOA Pathway commitments and in preparation for COP21 in Paris. \n",
      "Arrangements for Capacity-Building and Technology Transfer \n",
      "2 day experts meeting with technical sessions and focused group work sessions\n",
      "Coordination mechanisms/governance structure\n",
      "A coordination committee comprised of Fiji Ministry of Health, UNFPA and members of the UN H4+, was instrumental in coordinating the technical, logistics and administrative functions and responsibilities that facilitated a successful region wide expert meeting and ministerial meeting. \n",
      "Partner(s)\n",
      "Government of Fiji, and UNFPA, with technical support and in-kind support from the UN H4+ (WHO, UNICEF, UNFPA, UNAIDS, UNDP), SPC, PIDF, 14 Pacific SIDS and HRH Princess Sarah Zeid of Jordan.\n",
      "Updates to initiatives\n"
     ]
    }
   ],
   "source": [
    "des_raw = soup.find(id='intro')\n",
    "des_lst = []\n",
    "\n",
    "for resource in des_raw.findAll('div', recursive = False):\n",
    "    temp = resource.get_text()\n",
    "    \n",
    "    if temp != '':\n",
    "        temp = re.sub(r'\\n+', '\\n', temp.strip())\n",
    "        des_lst.append(temp)\n",
    "\n",
    "for i in des_lst:\n",
    "    print(i)"
   ]
  },
  {
   "cell_type": "code",
   "execution_count": null,
   "metadata": {},
   "outputs": [],
   "source": []
  }
 ],
 "metadata": {
  "kernelspec": {
   "display_name": "Python 3",
   "language": "python",
   "name": "python3"
  },
  "language_info": {
   "codemirror_mode": {
    "name": "ipython",
    "version": 3
   },
   "file_extension": ".py",
   "mimetype": "text/x-python",
   "name": "python",
   "nbconvert_exporter": "python",
   "pygments_lexer": "ipython3",
   "version": "3.6.4"
  }
 },
 "nbformat": 4,
 "nbformat_minor": 2
}
