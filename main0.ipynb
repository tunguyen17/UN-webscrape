{
 "cells": [
  {
   "cell_type": "code",
   "execution_count": 137,
   "metadata": {},
   "outputs": [],
   "source": [
    "import requests\n",
    "from bs4 import BeautifulSoup\n",
    "import re"
   ]
  },
  {
   "cell_type": "code",
   "execution_count": 203,
   "metadata": {},
   "outputs": [],
   "source": [
    "# url = 'https://sustainabledevelopment.un.org/partnership/?p=1497'\n",
    "url = 'https://sustainabledevelopment.un.org/partnership/?p=7417'\n",
    "\n",
    "r = requests.get(url)\n",
    "raw_data = r.text\n",
    "\n",
    "soup = BeautifulSoup(raw_data, 'html.parser')"
   ]
  },
  {
   "cell_type": "markdown",
   "metadata": {},
   "source": [
    "# title"
   ]
  },
  {
   "cell_type": "code",
   "execution_count": 204,
   "metadata": {},
   "outputs": [
    {
     "data": {
      "text/plain": [
       "'Climate Resilient Islands Partnership: An Inter-Regional Partnership on Climate Change Planning and Finance in Small Island Developing States'"
      ]
     },
     "execution_count": 204,
     "metadata": {},
     "output_type": "execute_result"
    }
   ],
   "source": [
    "title = soup.find(id = 'headline').get_text()\n",
    "title"
   ]
  },
  {
   "cell_type": "code",
   "execution_count": 188,
   "metadata": {},
   "outputs": [
    {
     "data": {
      "text/plain": [
       "'The 2nd China Ocean Philanthropy Forum'"
      ]
     },
     "execution_count": 188,
     "metadata": {},
     "output_type": "execute_result"
    }
   ],
   "source": [
    "def get_title():\n",
    "    return soup.find(id = 'headline').get_text()\n",
    "\n",
    "get_title()"
   ]
  },
  {
   "cell_type": "markdown",
   "metadata": {},
   "source": [
    "# goals"
   ]
  },
  {
   "cell_type": "code",
   "execution_count": 195,
   "metadata": {},
   "outputs": [],
   "source": [
    "home_right_raw = str(home_right)\n",
    "goals_re = re.compile(r'Goal [0-9]+')"
   ]
  },
  {
   "cell_type": "code",
   "execution_count": 196,
   "metadata": {},
   "outputs": [
    {
     "name": "stdout",
     "output_type": "stream",
     "text": [
      "Goal 14\n",
      "----\n"
     ]
    }
   ],
   "source": [
    "if len(r.history) and 'the ocean conference' in soup.title.text.lower():\n",
    "    \n",
    "    \n",
    "    other_sgd_ind = home_right_raw.index('Other SDGs')\n",
    "    \n",
    "    other_goals = re.findall(goals_re,home_right_raw[other_sgd_ind:])\n",
    "    \n",
    "    goals_lst = ['Goal 14'] + other_goals\n",
    "    \n",
    "else:\n",
    "    goals_raw = soup.find(id='targets')\n",
    "    goals_lst = [goal.get_text() for goal in goals_raw.findAll('strong')]\n",
    "    \n",
    "for goal in goals_lst:\n",
    "    print(goal)\n",
    "    print('----')"
   ]
  },
  {
   "cell_type": "code",
   "execution_count": 197,
   "metadata": {},
   "outputs": [
    {
     "data": {
      "text/plain": [
       "'Goal 14'"
      ]
     },
     "execution_count": 197,
     "metadata": {},
     "output_type": "execute_result"
    }
   ],
   "source": [
    "def get_goals():\n",
    "    if len(r.history) and 'the ocean conference' in soup.title.text.lower():\n",
    "\n",
    "\n",
    "        other_sgd_ind = home_right_raw.index('Other SDGs')\n",
    "\n",
    "        other_goals = re.findall(goals_re,home_right_raw[other_sgd_ind:])\n",
    "\n",
    "        goals_lst = ['Goal 14'] + other_goals\n",
    "\n",
    "    else:\n",
    "        goals_raw = soup.find(id='targets')\n",
    "        goals_lst = [goal.get_text() for goal in goals_raw.findAll('strong')]\n",
    "        \n",
    "    return ','.join(goals_lst)\n",
    "\n",
    "get_goals()"
   ]
  },
  {
   "cell_type": "markdown",
   "metadata": {},
   "source": [
    "# resources"
   ]
  },
  {
   "cell_type": "code",
   "execution_count": 198,
   "metadata": {},
   "outputs": [
    {
     "name": "stdout",
     "output_type": "stream",
     "text": [
      "Financing (in USD) : 120,000 USD\n",
      "----\n",
      "Staff / Technical expertise : An advisory committee consists of experts of marine field from governments, research institutes and NGOs.\n",
      "----\n",
      "In-kind contribution : Logistics sponsorship, local transport sponsorship, manpower support and so on.\n",
      "----\n"
     ]
    }
   ],
   "source": [
    "resources_raw = soup.find(id='resources')\n",
    "resources_lst = []\n",
    "\n",
    "for resource in resources_raw.findAll('div', recursive = False):\n",
    "    temp = resource.get_text()\n",
    "    \n",
    "    if temp != '':\n",
    "        temp = re.sub(r'\\n+', ' : ', temp.strip())\n",
    "#         temp = re.sub(r'[\\x91\\x92]', '\\'', temp)\n",
    "        resources_lst.append(temp.strip())\n",
    "\n",
    "for resource in resources_lst:\n",
    "    print(resource)\n",
    "    print('----')"
   ]
  },
  {
   "cell_type": "code",
   "execution_count": 199,
   "metadata": {},
   "outputs": [
    {
     "data": {
      "text/plain": [
       "'Financing (in USD) : 120,000 USD || Staff / Technical expertise : An advisory committee consists of experts of marine field from governments, research institutes and NGOs. || In-kind contribution : Logistics sponsorship, local transport sponsorship, manpower support and so on.'"
      ]
     },
     "execution_count": 199,
     "metadata": {},
     "output_type": "execute_result"
    }
   ],
   "source": [
    "def get_resources():\n",
    "    resources_raw = soup.find(id='resources')\n",
    "    resources_lst = []\n",
    "\n",
    "    for resource in resources_raw.findAll('div', recursive = False):\n",
    "        temp = resource.get_text()\n",
    "\n",
    "        if temp != '':\n",
    "            temp = re.sub(r'\\n+', ' : ', temp.strip())\n",
    "#             temp = re.sub(r'[\\x91\\x92]', '\\'', temp)\n",
    "            resources_lst.append(temp.strip())\n",
    "    return ' || '.join(resources_lst)\n",
    "get_resources()"
   ]
  },
  {
   "cell_type": "markdown",
   "metadata": {},
   "source": [
    "# description"
   ]
  },
  {
   "cell_type": "code",
   "execution_count": 200,
   "metadata": {
    "scrolled": false
   },
   "outputs": [
    {
     "name": "stdout",
     "output_type": "stream",
     "text": [
      "The objectives of the 2nd China Ocean Philanthropy Forum include enhancing the understanding of the Chinese community on the marine environment, strengthening the cooperation and communication between Chinese ocean NGO communities and promoting the collaboration of domestic and charity foundations in the field of marine public welfare in China.\n",
      "\r\n",
      "The 2nd China Ocean Philanthropy Forum will focus on the theme of \"Making More People Understand the Ocean\", conducting dialogues, seminars and public education and communication through a variety of forms such as keynote reports, sub-forum lectures, exhibitions, and interactive events.\n",
      "\r\n",
      "Our special events will be launched on June 8 and last for around 3 months, during which there will be a series of promotion and education activities organized by DIVE4LOVE(Shenzhen), Shanghai Rendu Ocean NPO Development Center, China Blue and GoalBlue(Shenzhen) together with marine protection NGOs around China. These activities include \"Fighting against marine debris\", Recycling Fishing Nets into Stylish Handbags, A Bite of Marine Protection\" and so on.\n",
      "\r\n",
      "A number of renowned scientists in the marine field, celebrities who are concerned about marine environment, public welfare representatives and institutions, charity foundations, government regulators, marine enterprises, mass media and the public will be invited to Dapeng District to discuss opportunities and challenges in developing marine public welfare.\n",
      "\r\n",
      "For the follow-up actions, there will be meetings organized by the committee to discuss and examine the implementation and effects of the forum. Also, a series of mainstream and online media will work with us to cover the progress of all activities before, during and after the forum to raise the public attention to the theme of marine environment protection in local communities.\n",
      "----\n"
     ]
    }
   ],
   "source": [
    "des_raw = soup.find(id='intro').find('div', attrs={'class':'wrap'})\n",
    "des_lst = []\n",
    "\n",
    "temp=re.sub( r'<p><\\/p>', '', str(des_raw))\n",
    "temp=temp.replace('</div>','')\n",
    "\n",
    "if '<div id=\"subHeadline\">' in temp:\n",
    "    for des in temp.split('<div id=\"subHeadline\">'):\n",
    "        temp = re.sub(r'[\\r\\n]+', ' : ', des.strip())\n",
    "        temp = re.sub(r'[\\x91\\x92]', '\\'', temp)\n",
    "        des_lst.append(temp)\n",
    "\n",
    "    # remove stuff in the begining\n",
    "    try:\n",
    "        des_lst.remove('<div class=\"wrap\" style=\"margin-bottom:10px;\">')\n",
    "    except:\n",
    "        pass\n",
    "else: \n",
    "    des_lst = [des_raw.get_text().strip()]\n",
    "    \n",
    "for des in des_lst:\n",
    "    print(des)\n",
    "    print('----')"
   ]
  },
  {
   "cell_type": "code",
   "execution_count": 201,
   "metadata": {},
   "outputs": [
    {
     "name": "stdout",
     "output_type": "stream",
     "text": [
      "<div class=\"wrap\" style=\"margin-bottom:10px;\"> : The objectives of the 2nd China Ocean Philanthropy Forum include enhancing the understanding of the Chinese community on the marine environment, strengthening the cooperation and communication between Chinese ocean NGO communities and promoting the collaboration of domestic and charity foundations in the field of marine public welfare in China.<br/> : <br/> : The 2nd China Ocean Philanthropy Forum will focus on the theme of \"Making More People Understand the Ocean\", conducting dialogues, seminars and public education and communication through a variety of forms such as keynote reports, sub-forum lectures, exhibitions, and interactive events.<br/> : <br/> : Our special events will be launched on June 8 and last for around 3 months, during which there will be a series of promotion and education activities organized by DIVE4LOVE(Shenzhen), Shanghai Rendu Ocean NPO Development Center, China Blue and GoalBlue(Shenzhen) together with marine protection NGOs around China. These activities include \"Fighting against marine debris\", Recycling Fishing Nets into Stylish Handbags, A Bite of Marine Protection\" and so on.<br/> : <br/> : A number of renowned scientists in the marine field, celebrities who are concerned about marine environment, public welfare representatives and institutions, charity foundations, government regulators, marine enterprises, mass media and the public will be invited to Dapeng District to discuss opportunities and challenges in developing marine public welfare.<br/> : <br/> : For the follow-up actions, there will be meetings organized by the committee to discuss and examine the implementation and effects of the forum. Also, a series of mainstream and online media will work with us to cover the progress of all activities before, during and after the forum to raise the public attention to the theme of marine environment protection in local communities.\n"
     ]
    }
   ],
   "source": [
    "def get_description():\n",
    "    des_raw = soup.find(id='intro').find('div', attrs={'class':'wrap'})\n",
    "    des_lst = []\n",
    "\n",
    "    temp=re.sub( r'<p><\\/p>', '', str(des_raw))\n",
    "    temp=temp.replace('</div>','')\n",
    "\n",
    "\n",
    "    for des in temp.split('<div id=\"subHeadline\">'):\n",
    "        temp = re.sub(r'[\\r\\n]+', ' : ', des.strip())\n",
    "        temp = re.sub(r'[\\x91\\x92]', '\\'', temp)\n",
    "        des_lst.append(temp)\n",
    "\n",
    "    # remove stuff in the begining\n",
    "    try:\n",
    "        des_lst.remove('<div class=\"wrap\" style=\"margin-bottom:10px;\">')\n",
    "    except:\n",
    "        pass\n",
    "    \n",
    "    return ' || '.join(des_lst)\n",
    "    \n",
    "print(get_description())"
   ]
  },
  {
   "cell_type": "markdown",
   "metadata": {},
   "source": [
    "# Partner"
   ]
  },
  {
   "cell_type": "code",
   "execution_count": 211,
   "metadata": {
    "scrolled": true
   },
   "outputs": [
    {
     "data": {
      "text/plain": [
       "'Partners : Caribbean Community Climate Change Centre,Indian Ocean Commission,Secretariat for the Pacific Regional Environment Programme,Commonwealth Secretariat,Caribbean Community Climate Change Centre (CCCCC),Commonwealth Secretariat,Indian Ocean Commission (IOC),Secretariat of the Pacific Regional Environment Programme (SPREP)'"
      ]
     },
     "execution_count": 211,
     "metadata": {},
     "output_type": "execute_result"
    }
   ],
   "source": [
    "home_right = soup.find('div', attrs={'class':'homeRight'})\n",
    "\n",
    "home_right_raw_lst = home_right.getText().split('\\n')\n",
    "home_right_raw_lst = [item.strip() for item in home_right_raw_lst]\n",
    "home_right_raw_lst = list(filter(None, home_right_raw_lst))\n",
    "\n",
    "\n",
    "# countries_index = home_right_raw_lst.index('Countries') + 1\n",
    "# contact_index = home_right_raw_lst.index('Contact information')\n",
    "# countries = home_right_raw_lst[countries_index:contact_index] if countries_index != contact_index else ''\n",
    "# return 'Countries : ' + \",\".join(countries)\n",
    "\n",
    "partner_index = home_right_raw_lst.index('Partners') + 1\n",
    "\n",
    "\n",
    "next_index = home_right_raw_lst.index('Ocean Basins') \\\n",
    "                if len(r.history) and 'the ocean conference' in soup.title.text.lower() \\\n",
    "                else home_right_raw_lst.index('Countries')\n",
    "\n",
    "partners = home_right_raw_lst[partner_index:next_index]\n",
    "partners = 'Partners : ' + ','.join(partners)\n",
    "\n",
    "partners"
   ]
  },
  {
   "cell_type": "code",
   "execution_count": 207,
   "metadata": {},
   "outputs": [
    {
     "data": {
      "text/plain": [
       "['var switchTo5x=true;',\n",
       " 'stLight.options({publisher: \"3505c971-d155-4c23-9abf-4688cffb9ee4\", doNotHash: false, doNotCopy: false, hashAddressBar: false});',\n",
       " '$(document).ready(function(){',\n",
       " '$.get(\"/getVCTweets.php?id=7417\",function(result)',\n",
       " '{',\n",
       " '$(\"#tweets\").html(result);',\n",
       " '});',\n",
       " 'getVCUpdates(7417);',\n",
       " '$.get(\"/getVCUpdatesShort.php?id=7417\",function(result)',\n",
       " '{',\n",
       " '$(\"#updateshort\").html(result);',\n",
       " '});',\n",
       " 'getPartnershipComments(7417);',\n",
       " '});',\n",
       " 'SMART',\n",
       " 'This initiative fulfils the SMART criteria.',\n",
       " 'Action Network',\n",
       " 'SIDS Partnership Framework',\n",
       " 'Updates',\n",
       " '#SDGAction7417',\n",
       " 'Basic information',\n",
       " 'Time-frame: 2012 - 2020',\n",
       " 'Website',\n",
       " 'Partners',\n",
       " 'Caribbean Community Climate Change Centre',\n",
       " 'Indian Ocean Commission',\n",
       " 'Secretariat for the Pacific Regional Environment Programme',\n",
       " 'Commonwealth Secretariat',\n",
       " 'Caribbean Community Climate Change Centre (CCCCC)',\n",
       " 'Commonwealth Secretariat',\n",
       " 'Indian Ocean Commission (IOC)',\n",
       " 'Secretariat of the Pacific Regional Environment Programme (SPREP)',\n",
       " 'Countries',\n",
       " 'United Kingdom',\n",
       " 'Contact information',\n",
       " 'Harsen Nyambe, Economic Policy Division, h.nyambe@commonwealth.int',\n",
       " 'getFocalPoints(7417);']"
      ]
     },
     "execution_count": 207,
     "metadata": {},
     "output_type": "execute_result"
    }
   ],
   "source": [
    "home_right_raw_lst"
   ]
  },
  {
   "cell_type": "code",
   "execution_count": 209,
   "metadata": {},
   "outputs": [
    {
     "data": {
      "text/plain": [
       "'Partners : Caribbean Community Climate Change Centre'"
      ]
     },
     "execution_count": 209,
     "metadata": {},
     "output_type": "execute_result"
    }
   ],
   "source": [
    "def get_partner():\n",
    "    home_right = soup.find('div', attrs={'class':'homeRight'})\n",
    "\n",
    "    home_right_raw_lst = home_right.getText().split('\\n')\n",
    "    home_right_raw_lst = [item.strip() for item in home_right_raw_lst]\n",
    "    home_right_raw_lst = list(filter(None, home_right_raw_lst))\n",
    "    partner_index = home_right_raw_lst.index('Partners') + 1\n",
    "    partners = home_right_raw_lst[partner_index] if home_right_raw_lst[partner_index] != 'Countries' else ''\n",
    "    return 'Partners : ' + partners \n",
    "\n",
    "get_partner()"
   ]
  },
  {
   "cell_type": "markdown",
   "metadata": {},
   "source": [
    "# Time Frame"
   ]
  },
  {
   "cell_type": "code",
   "execution_count": 104,
   "metadata": {},
   "outputs": [
    {
     "data": {
      "text/plain": [
       "'Time-frame: June 2015 - June 2020'"
      ]
     },
     "execution_count": 104,
     "metadata": {},
     "output_type": "execute_result"
    }
   ],
   "source": [
    "time_frame_index  = [i for i, item in enumerate(home_right_raw_lst) if re.search('Time-frame', item)]\n",
    "time_frame = home_right_raw_lst[time_frame_index[0]] if len(time_frame_index) == 1 else 'Time-frame: '\n",
    "time_frame"
   ]
  },
  {
   "cell_type": "code",
   "execution_count": 105,
   "metadata": {},
   "outputs": [
    {
     "data": {
      "text/plain": [
       "'Time-frame: June 2015 - June 2020'"
      ]
     },
     "execution_count": 105,
     "metadata": {},
     "output_type": "execute_result"
    }
   ],
   "source": [
    "def get_timeframe():\n",
    "    time_frame_index  = [i for i, item in enumerate(home_right_raw_lst) if re.search('Time-frame', item)]\n",
    "    return home_right_raw_lst[time_frame_index[0]] if len(time_frame_index) == 1 else 'Time-frame: '\n",
    "\n",
    "get_timeframe()"
   ]
  },
  {
   "cell_type": "markdown",
   "metadata": {},
   "source": [
    "# Country"
   ]
  },
  {
   "cell_type": "code",
   "execution_count": 106,
   "metadata": {},
   "outputs": [
    {
     "ename": "ValueError",
     "evalue": "'Countries' is not in list",
     "output_type": "error",
     "traceback": [
      "\u001b[0;31m---------------------------------------------------------------------------\u001b[0m",
      "\u001b[0;31mValueError\u001b[0m                                Traceback (most recent call last)",
      "\u001b[0;32m<ipython-input-106-a53d80846747>\u001b[0m in \u001b[0;36m<module>\u001b[0;34m()\u001b[0m\n\u001b[0;32m----> 1\u001b[0;31m \u001b[0mcountries_index\u001b[0m \u001b[0;34m=\u001b[0m \u001b[0mhome_right_raw_lst\u001b[0m\u001b[0;34m.\u001b[0m\u001b[0mindex\u001b[0m\u001b[0;34m(\u001b[0m\u001b[0;34m'Countries'\u001b[0m\u001b[0;34m)\u001b[0m \u001b[0;34m+\u001b[0m \u001b[0;36m1\u001b[0m\u001b[0;34m\u001b[0m\u001b[0m\n\u001b[0m\u001b[1;32m      2\u001b[0m \u001b[0mcontact_index\u001b[0m \u001b[0;34m=\u001b[0m \u001b[0mhome_right_raw_lst\u001b[0m\u001b[0;34m.\u001b[0m\u001b[0mindex\u001b[0m\u001b[0;34m(\u001b[0m\u001b[0;34m'Contact information'\u001b[0m\u001b[0;34m)\u001b[0m\u001b[0;34m\u001b[0m\u001b[0m\n\u001b[1;32m      3\u001b[0m \u001b[0mcountries\u001b[0m \u001b[0;34m=\u001b[0m \u001b[0mhome_right_raw_lst\u001b[0m\u001b[0;34m[\u001b[0m\u001b[0mcountries_index\u001b[0m\u001b[0;34m:\u001b[0m\u001b[0mcontact_index\u001b[0m\u001b[0;34m]\u001b[0m \u001b[0;32mif\u001b[0m \u001b[0mcountries_index\u001b[0m \u001b[0;34m!=\u001b[0m \u001b[0mcontact_index\u001b[0m \u001b[0;32melse\u001b[0m \u001b[0;34m''\u001b[0m\u001b[0;34m\u001b[0m\u001b[0m\n\u001b[1;32m      4\u001b[0m \u001b[0mcountries\u001b[0m \u001b[0;34m=\u001b[0m \u001b[0;34m'Countries : '\u001b[0m \u001b[0;34m+\u001b[0m \u001b[0;34m\",\"\u001b[0m\u001b[0;34m.\u001b[0m\u001b[0mjoin\u001b[0m\u001b[0;34m(\u001b[0m\u001b[0mcountries\u001b[0m\u001b[0;34m)\u001b[0m\u001b[0;34m\u001b[0m\u001b[0m\n\u001b[1;32m      5\u001b[0m \u001b[0mcountries\u001b[0m\u001b[0;34m\u001b[0m\u001b[0m\n",
      "\u001b[0;31mValueError\u001b[0m: 'Countries' is not in list"
     ]
    }
   ],
   "source": [
    "countries_index = home_right_raw_lst.index('Countries') + 1\n",
    "contact_index = home_right_raw_lst.index('Contact information')\n",
    "countries = home_right_raw_lst[countries_index:contact_index] if countries_index != contact_index else ''\n",
    "countries = 'Countries : ' + \",\".join(countries)\n",
    "countries"
   ]
  },
  {
   "cell_type": "code",
   "execution_count": 107,
   "metadata": {},
   "outputs": [
    {
     "ename": "ValueError",
     "evalue": "'Countries' is not in list",
     "output_type": "error",
     "traceback": [
      "\u001b[0;31m---------------------------------------------------------------------------\u001b[0m",
      "\u001b[0;31mValueError\u001b[0m                                Traceback (most recent call last)",
      "\u001b[0;32m<ipython-input-107-79ed08768c94>\u001b[0m in \u001b[0;36m<module>\u001b[0;34m()\u001b[0m\n\u001b[1;32m      5\u001b[0m     \u001b[0;32mreturn\u001b[0m \u001b[0;34m'Countries : '\u001b[0m \u001b[0;34m+\u001b[0m \u001b[0;34m\",\"\u001b[0m\u001b[0;34m.\u001b[0m\u001b[0mjoin\u001b[0m\u001b[0;34m(\u001b[0m\u001b[0mcountries\u001b[0m\u001b[0;34m)\u001b[0m\u001b[0;34m\u001b[0m\u001b[0m\n\u001b[1;32m      6\u001b[0m \u001b[0;34m\u001b[0m\u001b[0m\n\u001b[0;32m----> 7\u001b[0;31m \u001b[0mget_countries\u001b[0m\u001b[0;34m(\u001b[0m\u001b[0;34m)\u001b[0m\u001b[0;34m\u001b[0m\u001b[0m\n\u001b[0m",
      "\u001b[0;32m<ipython-input-107-79ed08768c94>\u001b[0m in \u001b[0;36mget_countries\u001b[0;34m()\u001b[0m\n\u001b[1;32m      1\u001b[0m \u001b[0;32mdef\u001b[0m \u001b[0mget_countries\u001b[0m\u001b[0;34m(\u001b[0m\u001b[0;34m)\u001b[0m\u001b[0;34m:\u001b[0m\u001b[0;34m\u001b[0m\u001b[0m\n\u001b[0;32m----> 2\u001b[0;31m     \u001b[0mcountries_index\u001b[0m \u001b[0;34m=\u001b[0m \u001b[0mhome_right_raw_lst\u001b[0m\u001b[0;34m.\u001b[0m\u001b[0mindex\u001b[0m\u001b[0;34m(\u001b[0m\u001b[0;34m'Countries'\u001b[0m\u001b[0;34m)\u001b[0m \u001b[0;34m+\u001b[0m \u001b[0;36m1\u001b[0m\u001b[0;34m\u001b[0m\u001b[0m\n\u001b[0m\u001b[1;32m      3\u001b[0m     \u001b[0mcontact_index\u001b[0m \u001b[0;34m=\u001b[0m \u001b[0mhome_right_raw_lst\u001b[0m\u001b[0;34m.\u001b[0m\u001b[0mindex\u001b[0m\u001b[0;34m(\u001b[0m\u001b[0;34m'Contact information'\u001b[0m\u001b[0;34m)\u001b[0m\u001b[0;34m\u001b[0m\u001b[0m\n\u001b[1;32m      4\u001b[0m     \u001b[0mcountries\u001b[0m \u001b[0;34m=\u001b[0m \u001b[0mhome_right_raw_lst\u001b[0m\u001b[0;34m[\u001b[0m\u001b[0mcountries_index\u001b[0m\u001b[0;34m:\u001b[0m\u001b[0mcontact_index\u001b[0m\u001b[0;34m]\u001b[0m \u001b[0;32mif\u001b[0m \u001b[0mcountries_index\u001b[0m \u001b[0;34m!=\u001b[0m \u001b[0mcontact_index\u001b[0m \u001b[0;32melse\u001b[0m \u001b[0;34m''\u001b[0m\u001b[0;34m\u001b[0m\u001b[0m\n\u001b[1;32m      5\u001b[0m     \u001b[0;32mreturn\u001b[0m \u001b[0;34m'Countries : '\u001b[0m \u001b[0;34m+\u001b[0m \u001b[0;34m\",\"\u001b[0m\u001b[0;34m.\u001b[0m\u001b[0mjoin\u001b[0m\u001b[0;34m(\u001b[0m\u001b[0mcountries\u001b[0m\u001b[0;34m)\u001b[0m\u001b[0;34m\u001b[0m\u001b[0m\n",
      "\u001b[0;31mValueError\u001b[0m: 'Countries' is not in list"
     ]
    }
   ],
   "source": [
    "def get_countries():\n",
    "    countries_index = home_right_raw_lst.index('Countries') + 1\n",
    "    contact_index = home_right_raw_lst.index('Contact information')\n",
    "    countries = home_right_raw_lst[countries_index:contact_index] if countries_index != contact_index else ''\n",
    "    return 'Countries : ' + \",\".join(countries)\n",
    "\n",
    "get_countries()"
   ]
  },
  {
   "cell_type": "markdown",
   "metadata": {},
   "source": [
    "# tweet"
   ]
  },
  {
   "cell_type": "code",
   "execution_count": 115,
   "metadata": {},
   "outputs": [
    {
     "data": {
      "text/plain": [
       "'#OceanAction20274'"
      ]
     },
     "execution_count": 115,
     "metadata": {},
     "output_type": "execute_result"
    }
   ],
   "source": [
    "tweet_re = re.compile(r'#[a-zA-z]+[0-9]+')\n",
    "newlist = list(filter(tweet_re.match, home_right_raw_lst))\n",
    "newlist[0]"
   ]
  },
  {
   "cell_type": "code",
   "execution_count": null,
   "metadata": {},
   "outputs": [],
   "source": []
  }
 ],
 "metadata": {
  "kernelspec": {
   "display_name": "Python 3",
   "language": "python",
   "name": "python3"
  },
  "language_info": {
   "codemirror_mode": {
    "name": "ipython",
    "version": 3
   },
   "file_extension": ".py",
   "mimetype": "text/x-python",
   "name": "python",
   "nbconvert_exporter": "python",
   "pygments_lexer": "ipython3",
   "version": "3.6.4"
  }
 },
 "nbformat": 4,
 "nbformat_minor": 2
}
