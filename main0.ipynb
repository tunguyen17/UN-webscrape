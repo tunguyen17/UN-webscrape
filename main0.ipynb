{
 "cells": [
  {
   "cell_type": "code",
   "execution_count": 2,
   "metadata": {},
   "outputs": [],
   "source": [
    "import requests\n",
    "from bs4 import BeautifulSoup\n",
    "import re"
   ]
  },
  {
   "cell_type": "code",
   "execution_count": 55,
   "metadata": {},
   "outputs": [],
   "source": [
    "# url = 'https://sustainabledevelopment.un.org/partnership/?p=364'\n",
    "url = 'https://sustainabledevelopment.un.org/partnership/?p=17656'\n",
    "\n",
    "r = requests.get(url)\n",
    "raw_data = r.text\n",
    "\n",
    "soup = BeautifulSoup(raw_data, 'html.parser')\n",
    "\n",
    "\n",
    "home_right = soup.find('div', attrs={'class':'homeRight'})\n",
    "\n",
    "home_right_raw_lst = home_right.getText().split('\\n')\n",
    "home_right_raw_lst = [item.strip() for item in home_right_raw_lst]\n",
    "home_right_raw_lst = list(filter(None, home_right_raw_lst))\n"
   ]
  },
  {
   "cell_type": "markdown",
   "metadata": {},
   "source": [
    "# title"
   ]
  },
  {
   "cell_type": "code",
   "execution_count": 56,
   "metadata": {},
   "outputs": [
    {
     "data": {
      "text/plain": [
       "'Establish marine nature protected areas on at least 3 locations, defined in the National Strategy for Integrated Coastal Zone Management of Montenegro, prepared by the Ministry of Sustainable Development and Tourism in cooperation with UN Environment/MAP'"
      ]
     },
     "execution_count": 56,
     "metadata": {},
     "output_type": "execute_result"
    }
   ],
   "source": [
    "title = soup.find(id = 'headline').get_text()\n",
    "title"
   ]
  },
  {
   "cell_type": "code",
   "execution_count": 57,
   "metadata": {},
   "outputs": [
    {
     "data": {
      "text/plain": [
       "'Establish marine nature protected areas on at least 3 locations, defined in the National Strategy for Integrated Coastal Zone Management of Montenegro, prepared by the Ministry of Sustainable Development and Tourism in cooperation with UN Environment/MAP'"
      ]
     },
     "execution_count": 57,
     "metadata": {},
     "output_type": "execute_result"
    }
   ],
   "source": [
    "def get_title():\n",
    "    return soup.find(id = 'headline').get_text()\n",
    "\n",
    "get_title()"
   ]
  },
  {
   "cell_type": "markdown",
   "metadata": {},
   "source": [
    "# goals"
   ]
  },
  {
   "cell_type": "code",
   "execution_count": 58,
   "metadata": {},
   "outputs": [],
   "source": [
    "home_right_raw = str(home_right)\n",
    "goals_re = re.compile(r'Goal [0-9]+')"
   ]
  },
  {
   "cell_type": "code",
   "execution_count": 59,
   "metadata": {},
   "outputs": [
    {
     "name": "stdout",
     "output_type": "stream",
     "text": [
      "Goal 14\n",
      "----\n"
     ]
    }
   ],
   "source": [
    "if len(r.history) and 'the ocean conference' in soup.title.text.lower():\n",
    "    \n",
    "    \n",
    "    other_sgd_ind = home_right_raw.index('Other SDGs')\n",
    "    \n",
    "    other_goals = re.findall(goals_re,home_right_raw[other_sgd_ind:])\n",
    "    \n",
    "    goals_lst = ['Goal 14'] + other_goals\n",
    "    \n",
    "else:\n",
    "    goals_raw = soup.find(id='targets')\n",
    "    goals_lst = [goal.get_text() for goal in goals_raw.findAll('strong')]\n",
    "    \n",
    "for goal in goals_lst:\n",
    "    print(goal)\n",
    "    print('----')"
   ]
  },
  {
   "cell_type": "code",
   "execution_count": 60,
   "metadata": {},
   "outputs": [
    {
     "data": {
      "text/plain": [
       "'Goal 14'"
      ]
     },
     "execution_count": 60,
     "metadata": {},
     "output_type": "execute_result"
    }
   ],
   "source": [
    "def get_goals():\n",
    "    if len(r.history) and 'the ocean conference' in soup.title.text.lower():\n",
    "\n",
    "\n",
    "        other_sgd_ind = home_right_raw.index('Other SDGs')\n",
    "\n",
    "        other_goals = re.findall(goals_re,home_right_raw[other_sgd_ind:])\n",
    "\n",
    "        goals_lst = ['Goal 14'] + other_goals\n",
    "\n",
    "    else:\n",
    "        goals_raw = soup.find(id='targets')\n",
    "        goals_lst = [goal.get_text() for goal in goals_raw.findAll('strong')]\n",
    "        \n",
    "    return ','.join(goals_lst)\n",
    "\n",
    "get_goals()"
   ]
  },
  {
   "cell_type": "markdown",
   "metadata": {},
   "source": [
    "# resources"
   ]
  },
  {
   "cell_type": "code",
   "execution_count": 61,
   "metadata": {},
   "outputs": [
    {
     "name": "stdout",
     "output_type": "stream",
     "text": [
      "Other, please specify : There are no available information on the mobilized resources in this moment.\n",
      "----\n"
     ]
    }
   ],
   "source": [
    "resources_raw = soup.find(id='resources')\n",
    "resources_lst = []\n",
    "\n",
    "for resource in resources_raw.findAll('div', recursive = False):\n",
    "    temp = resource.get_text()\n",
    "    \n",
    "    if temp != '':\n",
    "        temp = re.sub(r'\\n+', ' : ', temp.strip())\n",
    "#         temp = re.sub(r'[\\x91\\x92]', '\\'', temp)\n",
    "        resources_lst.append(temp.strip())\n",
    "\n",
    "for resource in resources_lst:\n",
    "    print(resource)\n",
    "    print('----')"
   ]
  },
  {
   "cell_type": "code",
   "execution_count": 62,
   "metadata": {},
   "outputs": [
    {
     "data": {
      "text/plain": [
       "'Other, please specify : There are no available information on the mobilized resources in this moment.'"
      ]
     },
     "execution_count": 62,
     "metadata": {},
     "output_type": "execute_result"
    }
   ],
   "source": [
    "def get_resources():\n",
    "    resources_raw = soup.find(id='resources')\n",
    "    resources_lst = []\n",
    "\n",
    "    for resource in resources_raw.findAll('div', recursive = False):\n",
    "        temp = resource.get_text()\n",
    "\n",
    "        if temp != '':\n",
    "            temp = re.sub(r'\\n+', ' : ', temp.strip())\n",
    "#             temp = re.sub(r'[\\x91\\x92]', '\\'', temp)\n",
    "            resources_lst.append(temp.strip())\n",
    "    return '. '.join(resources_lst)\n",
    "\n",
    "\n",
    "get_resources()"
   ]
  },
  {
   "cell_type": "markdown",
   "metadata": {},
   "source": [
    "# description"
   ]
  },
  {
   "cell_type": "code",
   "execution_count": 63,
   "metadata": {},
   "outputs": [
    {
     "data": {
      "text/plain": [
       "'The existing management system of nature protected areas is characterised by a lack of marine protected natural assets. Given the diversity of marine habitats and types on one hand, and increasing pressures to which they are exposed on the other, it is necessary to establish a network of marine protected areas with the aim to preserve, and where found necessary regenerate values of marine biodiversity. Until 2020, the initiated procedures for establishing marine nature protected areas should be finalised on at least three locations (e.g. Katič, Platamuni, Ratac) recognised for protection in the Spatial Plan of Montenegro and the Special Purpose Spatial Plan for public maritime domain area, or those that will be identified in the Special Purpose Spatial Plan for the coastal zone of Montenegro.Activities1. Review the documentation basis prepared so far and determine needs for additional research aimed at collecting missing data on the state of habitats and species at observed localities.2. Develop protection studies for priority areas.3. Define optimal management model, including partnership of Public Enterprise for Public Maritime Domain Management with local self-governments.4. Adopt the act on declaring protected areas.5. Amend the Law on nature protection so that full normative basis for establishing marine natural assets is provided (taking into consideration recommendations of the Study on the institutional and legislative framework needs with a view to establishment of marine nature protected areas, prepared with SPA/RACs support). Amendments of this legal act should be harmonised with the amendments of other relevant acts, particularly those regulating the use of natural resources and economic activities in the coastal zone in accordance with recommendations and requirements for sustainable resources use.6. Conduct procedure for establishing Specially Protected Areas of Mediterranean Importance (SPAMI) on the selected sites where nationally protected marine area has been previously established.7. Organise training to develop management capacities, including information exchange with successful managers of certain protected areas in the Mediterranean and wider regions.8. Link possibilities for providing ecosystem services with tourist offer.'"
      ]
     },
     "execution_count": 63,
     "metadata": {},
     "output_type": "execute_result"
    }
   ],
   "source": [
    "des_raw = soup.find(id='intro').find('div', attrs={'class':'wrap'})\n",
    "des_lst = []\n",
    "\n",
    "\n",
    "temp=re.sub( r'<div id=\"subHeadline\">', ' : ', str(des_raw))\n",
    "temp = re.sub(r'<[^>]*>', '', temp)\n",
    "temp = re.sub(r'[\\n\\r]+', '', temp)\n",
    "\n",
    "temp"
   ]
  },
  {
   "cell_type": "code",
   "execution_count": 64,
   "metadata": {},
   "outputs": [
    {
     "data": {
      "text/plain": [
       "'The existing management system of nature protected areas is characterised by a lack of marine protected natural assets. Given the diversity of marine habitats and types on one hand, and increasing pressures to which they are exposed on the other, it is necessary to establish a network of marine protected areas with the aim to preserve, and where found necessary regenerate values of marine biodiversity. Until 2020, the initiated procedures for establishing marine nature protected areas should be finalised on at least three locations (e.g. Katič, Platamuni, Ratac) recognised for protection in the Spatial Plan of Montenegro and the Special Purpose Spatial Plan for public maritime domain area, or those that will be identified in the Special Purpose Spatial Plan for the coastal zone of Montenegro.\\r\\nActivities\\r\\n1. Review the documentation basis prepared so far and determine needs for additional research aimed at collecting missing data on the state of habitats and species at observed localities.\\r\\n2. Develop protection studies for priority areas.\\r\\n3. Define optimal management model, including partnership of Public Enterprise for Public Maritime Domain Management with local self-governments.\\r\\n4. Adopt the act on declaring protected areas.\\r\\n5. Amend the Law on nature protection so that full normative basis for establishing marine natural assets is provided (taking into consideration recommendations of the Study on the institutional and legislative framework needs with a view to establishment of marine nature protected areas, prepared with SPA/RACs support). Amendments of this legal act should be harmonised with the amendments of other relevant acts, particularly those regulating the use of natural resources and economic activities in the coastal zone in accordance with recommendations and requirements for sustainable resources use.\\r\\n6. Conduct procedure for establishing Specially Protected Areas of Mediterranean Importance (SPAMI) on the selected sites where nationally protected marine area has been previously established.\\r\\n7. Organise training to develop management capacities, including information exchange with successful managers of certain protected areas in the Mediterranean and wider regions.\\r\\n8. Link possibilities for providing ecosystem services with tourist offer.'"
      ]
     },
     "execution_count": 64,
     "metadata": {},
     "output_type": "execute_result"
    }
   ],
   "source": [
    "des_raw = soup.find(id='intro').find('div', attrs={'class':'wrap'})\n",
    "\n",
    "temp = str(des_raw)\n",
    "\n",
    "if '<div id=\"subHeadline\">' in temp:\n",
    "    temp = re.sub( r'<div id=\"subHeadline\">', ' : ', temp)\n",
    "    temp = re.sub(r'<[^>]*>', '', temp)\n",
    "    description = re.sub(r'[\\n\\r]+', ' ----------------------------- ', temp)\n",
    "else: \n",
    "    description = des_raw.get_text().strip()\n",
    "\n",
    "description"
   ]
  },
  {
   "cell_type": "code",
   "execution_count": 65,
   "metadata": {},
   "outputs": [],
   "source": [
    "tweet_re = re.compile(r'#[a-zA-z]+[0-9]+')\n",
    "\n",
    "goals_re = re.compile(r'Goal [0-9]+')\n",
    "\n",
    "des_separator_re = re.compile(r'<div id=\"subHeadline\">')\n",
    "htmltag_re = re.compile(r'<[^>]*>')\n",
    "newline_re = re.compile(r'[\\n\\r]+')"
   ]
  },
  {
   "cell_type": "code",
   "execution_count": 66,
   "metadata": {},
   "outputs": [
    {
     "data": {
      "text/plain": [
       "'The existing management system of nature protected areas is characterised by a lack of marine protected natural assets. Given the diversity of marine habitats and types on one hand, and increasing pressures to which they are exposed on the other, it is necessary to establish a network of marine protected areas with the aim to preserve, and where found necessary regenerate values of marine biodiversity. Until 2020, the initiated procedures for establishing marine nature protected areas should be finalised on at least three locations (e.g. Katič, Platamuni, Ratac) recognised for protection in the Spatial Plan of Montenegro and the Special Purpose Spatial Plan for public maritime domain area, or those that will be identified in the Special Purpose Spatial Plan for the coastal zone of Montenegro.Activities1. Review the documentation basis prepared so far and determine needs for additional research aimed at collecting missing data on the state of habitats and species at observed localities.2. Develop protection studies for priority areas.3. Define optimal management model, including partnership of Public Enterprise for Public Maritime Domain Management with local self-governments.4. Adopt the act on declaring protected areas.5. Amend the Law on nature protection so that full normative basis for establishing marine natural assets is provided (taking into consideration recommendations of the Study on the institutional and legislative framework needs with a view to establishment of marine nature protected areas, prepared with SPA/RACs support). Amendments of this legal act should be harmonised with the amendments of other relevant acts, particularly those regulating the use of natural resources and economic activities in the coastal zone in accordance with recommendations and requirements for sustainable resources use.6. Conduct procedure for establishing Specially Protected Areas of Mediterranean Importance (SPAMI) on the selected sites where nationally protected marine area has been previously established.7. Organise training to develop management capacities, including information exchange with successful managers of certain protected areas in the Mediterranean and wider regions.8. Link possibilities for providing ecosystem services with tourist offer.'"
      ]
     },
     "execution_count": 66,
     "metadata": {},
     "output_type": "execute_result"
    }
   ],
   "source": [
    "# Description\n",
    "def get_description():\n",
    "    des_raw = soup.find(id='intro').find('div', attrs={'class':'wrap'})\n",
    "\n",
    "    temp = str(des_raw)\n",
    "    \n",
    "    temp = re.sub(htmltag_re, '', temp)\n",
    "    temp = re.sub(newline_re, '', temp)\n",
    "    \n",
    "    if '<div id=\"subHeadline\">' in temp:\n",
    "        temp = re.sub(des_separator_re, ' : ', temp)    \n",
    "        print(hello)\n",
    "        return temp.strip()\n",
    "    else: \n",
    "        return temp.strip()\n",
    "\n",
    "    \n",
    "get_description()"
   ]
  },
  {
   "cell_type": "markdown",
   "metadata": {},
   "source": [
    "# Partner"
   ]
  },
  {
   "cell_type": "code",
   "execution_count": 70,
   "metadata": {
    "scrolled": false
   },
   "outputs": [
    {
     "data": {
      "text/plain": [
       "'Partners : 1) Ministry of Sustainable Development and Tourism; 2) Environmental Protection Agency; 3) Public Enterprise for Public Maritime Domain Management; 4) local self-governments in the coastal zone'"
      ]
     },
     "execution_count": 70,
     "metadata": {},
     "output_type": "execute_result"
    }
   ],
   "source": [
    "home_right = soup.find('div', attrs={'class':'homeRight'})\n",
    "\n",
    "home_right_raw_lst = home_right.getText().split('\\n')\n",
    "home_right_raw_lst = [item.strip() for item in home_right_raw_lst]\n",
    "home_right_raw_lst = list(filter(None, home_right_raw_lst))\n",
    "\n",
    "\n",
    "# countries_index = home_right_raw_lst.index('Countries') + 1\n",
    "# contact_index = home_right_raw_lst.index('Contact information')\n",
    "# countries = home_right_raw_lst[countries_index:contact_index] if countries_index != contact_index else ''\n",
    "# return 'Countries : ' + \",\".join(countries)\n",
    "\n",
    "partner_index = home_right_raw_lst.index('Partners') + 1\n",
    "\n",
    "\n",
    "next_index = home_right_raw_lst.index('Ocean Basins') \\\n",
    "                if len(r.history) and 'the ocean conference' in soup.title.text.lower() \\\n",
    "                else home_right_raw_lst.index('Countries')\n",
    "\n",
    "partners = home_right_raw_lst[partner_index:next_index]\n",
    "partners = 'Partners : ' + '; '.join(partners)\n",
    "\n",
    "partners"
   ]
  },
  {
   "cell_type": "code",
   "execution_count": 71,
   "metadata": {},
   "outputs": [
    {
     "name": "stdout",
     "output_type": "stream",
     "text": [
      "Partners : 1) Ministry of Sustainable Development and Tourism; 2) Environmental Protection Agency; 3) Public Enterprise for Public Maritime Domain Management; 4) local self-governments in the coastal zone\n"
     ]
    }
   ],
   "source": [
    "print(partners)"
   ]
  },
  {
   "cell_type": "code",
   "execution_count": 205,
   "metadata": {},
   "outputs": [
    {
     "data": {
      "text/plain": [
       "''"
      ]
     },
     "execution_count": 205,
     "metadata": {},
     "output_type": "execute_result"
    }
   ],
   "source": [
    "'\\r'.strip()"
   ]
  },
  {
   "cell_type": "code",
   "execution_count": 53,
   "metadata": {},
   "outputs": [
    {
     "data": {
      "text/plain": [
       "'1) Ministry of Sustainable Development and Tourism. 2) Environmental Protection Agency. 3) Public Enterprise for Public Maritime Domain Management. 4) local self-governments in the coastal zone'"
      ]
     },
     "execution_count": 53,
     "metadata": {},
     "output_type": "execute_result"
    }
   ],
   "source": [
    "def get_partners():\n",
    "    partner_index = home_right_raw_lst.index('Partners') + 1\n",
    "    next_index = home_right_raw_lst.index('Ocean Basins') \\\n",
    "                    if len(r.history) and 'the ocean conference' in soup.title.text.lower() \\\n",
    "                    else home_right_raw_lst.index('Countries')\n",
    "            \n",
    "    partners = [p.strip() for p in home_right_raw_lst[partner_index:next_index]]\n",
    "    partners = list(filter(None, partners))\n",
    "    \n",
    "    return '. '.join(partners)\n",
    "\n",
    "get_partners()"
   ]
  },
  {
   "cell_type": "markdown",
   "metadata": {},
   "source": [
    "# Time Frame"
   ]
  },
  {
   "cell_type": "code",
   "execution_count": 198,
   "metadata": {},
   "outputs": [
    {
     "data": {
      "text/plain": [
       "'Time-frame:  - 2022-12-31'"
      ]
     },
     "execution_count": 198,
     "metadata": {},
     "output_type": "execute_result"
    }
   ],
   "source": [
    "time_frame_index  = [i for i, item in enumerate(home_right_raw_lst) if re.search('Time-frame', item)]\n",
    "time_frame = home_right_raw_lst[time_frame_index[0]] if len(time_frame_index) == 1 else 'Time-frame: '\n",
    "time_frame"
   ]
  },
  {
   "cell_type": "code",
   "execution_count": 199,
   "metadata": {},
   "outputs": [
    {
     "data": {
      "text/plain": [
       "'Time-frame:  - 2022-12-31'"
      ]
     },
     "execution_count": 199,
     "metadata": {},
     "output_type": "execute_result"
    }
   ],
   "source": [
    "def get_timeframe():\n",
    "    time_frame_index  = [i for i, item in enumerate(home_right_raw_lst) if re.search('Time-frame', item)]\n",
    "    return home_right_raw_lst[time_frame_index[0]] if len(time_frame_index) == 1 else 'Time-frame: '\n",
    "\n",
    "get_timeframe()"
   ]
  },
  {
   "cell_type": "markdown",
   "metadata": {},
   "source": [
    "# Country"
   ]
  },
  {
   "cell_type": "code",
   "execution_count": 200,
   "metadata": {},
   "outputs": [
    {
     "data": {
      "text/plain": [
       "'Countries : '"
      ]
     },
     "execution_count": 200,
     "metadata": {},
     "output_type": "execute_result"
    }
   ],
   "source": [
    "countries_index = home_right_raw_lst.index('Countries') + 1\n",
    "contact_index = home_right_raw_lst.index('Contact information')\n",
    "countries = home_right_raw_lst[countries_index:contact_index] if countries_index != contact_index else ''\n",
    "countries = 'Countries : ' + \",\".join(countries)\n",
    "countries"
   ]
  },
  {
   "cell_type": "code",
   "execution_count": 201,
   "metadata": {},
   "outputs": [
    {
     "data": {
      "text/plain": [
       "'Countries : '"
      ]
     },
     "execution_count": 201,
     "metadata": {},
     "output_type": "execute_result"
    }
   ],
   "source": [
    "def get_countries():\n",
    "    countries_index = home_right_raw_lst.index('Countries') + 1\n",
    "    contact_index = home_right_raw_lst.index('Contact information')\n",
    "    countries = home_right_raw_lst[countries_index:contact_index] if countries_index != contact_index else ''\n",
    "    return 'Countries : ' + \",\".join(countries)\n",
    "\n",
    "get_countries()"
   ]
  },
  {
   "cell_type": "markdown",
   "metadata": {},
   "source": [
    "# tweet"
   ]
  },
  {
   "cell_type": "code",
   "execution_count": 202,
   "metadata": {},
   "outputs": [
    {
     "data": {
      "text/plain": [
       "'#SDGAction1578'"
      ]
     },
     "execution_count": 202,
     "metadata": {},
     "output_type": "execute_result"
    }
   ],
   "source": [
    "tweet_re = re.compile(r'#[a-zA-z]+[0-9]+')\n",
    "newlist = list(filter(tweet_re.match, home_right_raw_lst))\n",
    "newlist[0]"
   ]
  },
  {
   "cell_type": "code",
   "execution_count": null,
   "metadata": {},
   "outputs": [],
   "source": []
  }
 ],
 "metadata": {
  "kernelspec": {
   "display_name": "Python 3",
   "language": "python",
   "name": "python3"
  },
  "language_info": {
   "codemirror_mode": {
    "name": "ipython",
    "version": 3
   },
   "file_extension": ".py",
   "mimetype": "text/x-python",
   "name": "python",
   "nbconvert_exporter": "python",
   "pygments_lexer": "ipython3",
   "version": "3.6.4"
  }
 },
 "nbformat": 4,
 "nbformat_minor": 2
}
