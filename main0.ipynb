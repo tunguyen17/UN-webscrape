{
 "cells": [
  {
   "cell_type": "code",
   "execution_count": 184,
   "metadata": {},
   "outputs": [],
   "source": [
    "import requests\n",
    "from bs4 import BeautifulSoup\n",
    "import re"
   ]
  },
  {
   "cell_type": "code",
   "execution_count": 211,
   "metadata": {},
   "outputs": [],
   "source": [
    "# url = 'https://sustainabledevelopment.un.org/partnership/?p=364'\n",
    "url = 'https://sustainabledevelopment.un.org/partnership/?p=17656'\n",
    "\n",
    "r = requests.get(url)\n",
    "raw_data = r.text\n",
    "\n",
    "soup = BeautifulSoup(raw_data, 'html.parser')\n",
    "\n",
    "\n",
    "home_right = soup.find('div', attrs={'class':'homeRight'})\n",
    "\n",
    "home_right_raw_lst = home_right.getText().split('\\n')\n",
    "home_right_raw_lst = [item.strip() for item in home_right_raw_lst]\n",
    "home_right_raw_lst = list(filter(None, home_right_raw_lst))\n"
   ]
  },
  {
   "cell_type": "markdown",
   "metadata": {},
   "source": [
    "# title"
   ]
  },
  {
   "cell_type": "code",
   "execution_count": 186,
   "metadata": {},
   "outputs": [
    {
     "data": {
      "text/plain": [
       "'Mediaterre - Global information system on sustainable development'"
      ]
     },
     "execution_count": 186,
     "metadata": {},
     "output_type": "execute_result"
    }
   ],
   "source": [
    "title = soup.find(id = 'headline').get_text()\n",
    "title"
   ]
  },
  {
   "cell_type": "code",
   "execution_count": 187,
   "metadata": {},
   "outputs": [
    {
     "data": {
      "text/plain": [
       "'Mediaterre - Global information system on sustainable development'"
      ]
     },
     "execution_count": 187,
     "metadata": {},
     "output_type": "execute_result"
    }
   ],
   "source": [
    "def get_title():\n",
    "    return soup.find(id = 'headline').get_text()\n",
    "\n",
    "get_title()"
   ]
  },
  {
   "cell_type": "markdown",
   "metadata": {},
   "source": [
    "# goals"
   ]
  },
  {
   "cell_type": "code",
   "execution_count": 188,
   "metadata": {},
   "outputs": [],
   "source": [
    "home_right_raw = str(home_right)\n",
    "goals_re = re.compile(r'Goal [0-9]+')"
   ]
  },
  {
   "cell_type": "code",
   "execution_count": 189,
   "metadata": {},
   "outputs": [],
   "source": [
    "if len(r.history) and 'the ocean conference' in soup.title.text.lower():\n",
    "    \n",
    "    \n",
    "    other_sgd_ind = home_right_raw.index('Other SDGs')\n",
    "    \n",
    "    other_goals = re.findall(goals_re,home_right_raw[other_sgd_ind:])\n",
    "    \n",
    "    goals_lst = ['Goal 14'] + other_goals\n",
    "    \n",
    "else:\n",
    "    goals_raw = soup.find(id='targets')\n",
    "    goals_lst = [goal.get_text() for goal in goals_raw.findAll('strong')]\n",
    "    \n",
    "for goal in goals_lst:\n",
    "    print(goal)\n",
    "    print('----')"
   ]
  },
  {
   "cell_type": "code",
   "execution_count": 190,
   "metadata": {},
   "outputs": [
    {
     "data": {
      "text/plain": [
       "''"
      ]
     },
     "execution_count": 190,
     "metadata": {},
     "output_type": "execute_result"
    }
   ],
   "source": [
    "def get_goals():\n",
    "    if len(r.history) and 'the ocean conference' in soup.title.text.lower():\n",
    "\n",
    "\n",
    "        other_sgd_ind = home_right_raw.index('Other SDGs')\n",
    "\n",
    "        other_goals = re.findall(goals_re,home_right_raw[other_sgd_ind:])\n",
    "\n",
    "        goals_lst = ['Goal 14'] + other_goals\n",
    "\n",
    "    else:\n",
    "        goals_raw = soup.find(id='targets')\n",
    "        goals_lst = [goal.get_text() for goal in goals_raw.findAll('strong')]\n",
    "        \n",
    "    return ','.join(goals_lst)\n",
    "\n",
    "get_goals()"
   ]
  },
  {
   "cell_type": "markdown",
   "metadata": {},
   "source": [
    "# resources"
   ]
  },
  {
   "cell_type": "code",
   "execution_count": 191,
   "metadata": {},
   "outputs": [],
   "source": [
    "resources_raw = soup.find(id='resources')\n",
    "resources_lst = []\n",
    "\n",
    "for resource in resources_raw.findAll('div', recursive = False):\n",
    "    temp = resource.get_text()\n",
    "    \n",
    "    if temp != '':\n",
    "        temp = re.sub(r'\\n+', ' : ', temp.strip())\n",
    "#         temp = re.sub(r'[\\x91\\x92]', '\\'', temp)\n",
    "        resources_lst.append(temp.strip())\n",
    "\n",
    "for resource in resources_lst:\n",
    "    print(resource)\n",
    "    print('----')"
   ]
  },
  {
   "cell_type": "code",
   "execution_count": 192,
   "metadata": {},
   "outputs": [
    {
     "data": {
      "text/plain": [
       "''"
      ]
     },
     "execution_count": 192,
     "metadata": {},
     "output_type": "execute_result"
    }
   ],
   "source": [
    "def get_resources():\n",
    "    resources_raw = soup.find(id='resources')\n",
    "    resources_lst = []\n",
    "\n",
    "    for resource in resources_raw.findAll('div', recursive = False):\n",
    "        temp = resource.get_text()\n",
    "\n",
    "        if temp != '':\n",
    "            temp = re.sub(r'\\n+', ' : ', temp.strip())\n",
    "#             temp = re.sub(r'[\\x91\\x92]', '\\'', temp)\n",
    "            resources_lst.append(temp.strip())\n",
    "    return ' || '.join(resources_lst)\n",
    "get_resources()"
   ]
  },
  {
   "cell_type": "markdown",
   "metadata": {},
   "source": [
    "# description"
   ]
  },
  {
   "cell_type": "code",
   "execution_count": 193,
   "metadata": {},
   "outputs": [
    {
     "data": {
      "text/plain": [
       "\"\\n : Description/achievement of initiative\\nThe aim of the project is to create an information and discussion platform for sustainable development that is accessible to the various groups concerned (States and public administrations, local governments and international bodies, associations, the economic sector, scientists and the academic community, and ordinary citizens) by facilitating exchanges and integration of the available data on a network of Internet sites distributed throughout the French-speaking world. \\n The second objective is to develop the use of French regarding these topics for the sake of linguistic plurality at the international level, thereby helping to reinforce the capacities of French-speaking participants, especially in the organization of preliminary debates for major conferences. This platform is also an experimental ground for research and development into new tools and approaches that will be transferred to the partners. It will be an extension of various projects and actions.\\n : Implementation methodologies\\n : Arrangements for Capacity-Building and Technology Transfer \\n : Coordination mechanisms/governance structure\\n : Partner(s)\\nGovernments: \\nGovernment of Belgium - Belgium's French Community \\nGovernment of Burkina Faso - Secrétariat Permanent du Conseil National pour l'Environnement et le Développement Durable (SP/CONEDD) \\nGovernment of Madagascar - Office National pour l'Environnement (ONE) \\n Major Groups: \\nInternational Center of Resources and Innovation for the Sustainable Development-CIRIDD (former Association Agora 21) (France) \\nInformation Network for Sustainable Development in Central Africa (RIDDAC) (Cameroon) \\nAgence Universitaire de la Francophonie (AUF) (Canada) \\nCentre International UNISFERA (Canada) \\nObservatoire de l'Écopolitique Internationale / Institut des sciences de l'environnement/Université du Québec à Montréal (UQAM) (Canada) \\nNetwork for Environment and Sustainable Development in Africa (REDDA/NESDA) (Côte d'Ivoire) \\nARMINES - École Nationale Supérieure des Mines de Saint-Etienne (France) \\nYIL Agence (France) \\nAgence Internationale pour le Développement de l'Information Environnementale (ADIE) (Gabon) \\nAlliance Maghreb pour l'Eau (ALMAE ) (Morocco) \\nEnvironnement et Développement du Tiers-Monde (ENDA) (Senegal) \\n Other intergovernmental organizations: \\nOrganisation Internationale de la Francophonie (IEPF - Institut de la Francophonie Numérique - Unité Jeunesse) (France) \\nComité permanent Inter-États de Lutte contre la Sécheresse au Sahel (CILSS) (Burkina Faso) \\n Other: \\nAssemblée Parlementaire de la Francophonie (APF) (France) \\nGroupe Medialternatif (Haiti) \\n \\n\""
      ]
     },
     "execution_count": 193,
     "metadata": {},
     "output_type": "execute_result"
    }
   ],
   "source": [
    "des_raw = soup.find(id='intro').find('div', attrs={'class':'wrap'})\n",
    "des_lst = []\n",
    "\n",
    "\n",
    "temp=re.sub( r'<div id=\"subHeadline\">', ' : ', str(des_raw))\n",
    "temp = re.sub(r'<[^>]*>', '', temp)\n",
    "temp = re.sub(r'[\\n\\r]+', '\\n', temp)\n",
    "\n",
    "temp"
   ]
  },
  {
   "cell_type": "code",
   "execution_count": 194,
   "metadata": {},
   "outputs": [
    {
     "data": {
      "text/plain": [
       "\"\\n : Description/achievement of initiative\\nThe aim of the project is to create an information and discussion platform for sustainable development that is accessible to the various groups concerned (States and public administrations, local governments and international bodies, associations, the economic sector, scientists and the academic community, and ordinary citizens) by facilitating exchanges and integration of the available data on a network of Internet sites distributed throughout the French-speaking world. \\n The second objective is to develop the use of French regarding these topics for the sake of linguistic plurality at the international level, thereby helping to reinforce the capacities of French-speaking participants, especially in the organization of preliminary debates for major conferences. This platform is also an experimental ground for research and development into new tools and approaches that will be transferred to the partners. It will be an extension of various projects and actions.\\n : Implementation methodologies\\n : Arrangements for Capacity-Building and Technology Transfer \\n : Coordination mechanisms/governance structure\\n : Partner(s)\\nGovernments: \\nGovernment of Belgium - Belgium's French Community \\nGovernment of Burkina Faso - Secrétariat Permanent du Conseil National pour l'Environnement et le Développement Durable (SP/CONEDD) \\nGovernment of Madagascar - Office National pour l'Environnement (ONE) \\n Major Groups: \\nInternational Center of Resources and Innovation for the Sustainable Development-CIRIDD (former Association Agora 21) (France) \\nInformation Network for Sustainable Development in Central Africa (RIDDAC) (Cameroon) \\nAgence Universitaire de la Francophonie (AUF) (Canada) \\nCentre International UNISFERA (Canada) \\nObservatoire de l'Écopolitique Internationale / Institut des sciences de l'environnement/Université du Québec à Montréal (UQAM) (Canada) \\nNetwork for Environment and Sustainable Development in Africa (REDDA/NESDA) (Côte d'Ivoire) \\nARMINES - École Nationale Supérieure des Mines de Saint-Etienne (France) \\nYIL Agence (France) \\nAgence Internationale pour le Développement de l'Information Environnementale (ADIE) (Gabon) \\nAlliance Maghreb pour l'Eau (ALMAE ) (Morocco) \\nEnvironnement et Développement du Tiers-Monde (ENDA) (Senegal) \\n Other intergovernmental organizations: \\nOrganisation Internationale de la Francophonie (IEPF - Institut de la Francophonie Numérique - Unité Jeunesse) (France) \\nComité permanent Inter-États de Lutte contre la Sécheresse au Sahel (CILSS) (Burkina Faso) \\n Other: \\nAssemblée Parlementaire de la Francophonie (APF) (France) \\nGroupe Medialternatif (Haiti) \\n \\n\""
      ]
     },
     "execution_count": 194,
     "metadata": {},
     "output_type": "execute_result"
    }
   ],
   "source": [
    "des_raw = soup.find(id='intro').find('div', attrs={'class':'wrap'})\n",
    "\n",
    "temp = str(des_raw)\n",
    "\n",
    "if '<div id=\"subHeadline\">' in temp:\n",
    "    temp = re.sub( r'<div id=\"subHeadline\">', ' : ', temp)\n",
    "    temp = re.sub(r'<[^>]*>', '', temp)\n",
    "    description = re.sub(r'[\\n\\r]+', '\\n', temp)\n",
    "else: \n",
    "    description = des_raw.get_text().strip()\n",
    "\n",
    "description"
   ]
  },
  {
   "cell_type": "code",
   "execution_count": 195,
   "metadata": {},
   "outputs": [
    {
     "name": "stdout",
     "output_type": "stream",
     "text": [
      "Description/achievement of initiative : The aim of the project is to create an information and discussion platform for sustainable development that is accessible to the various groups concerned (States and public administrations, local governments and international bodies, associations, the economic sector, scientists and the academic community, and ordinary citizens) by facilitating exchanges and integration of the available data on a network of Internet sites distributed throughout the French-speaking world.  : <br/> <br/>The second objective is to develop the use of French regarding these topics for the sake of linguistic plurality at the international level, thereby helping to reinforce the capacities of French-speaking participants, especially in the organization of preliminary debates for major conferences. This platform is also an experimental ground for research and development into new tools and approaches that will be transferred to the partners. It will be an extension of various projects and actions. : <br/> || Implementation methodologies || Arrangements for Capacity-Building and Technology Transfer || Coordination mechanisms/governance structure || Partner(s) : Governments:  : <br/>Government of Belgium - Belgium's French Community  : <br/>Government of Burkina Faso - Secrétariat Permanent du Conseil National pour l'Environnement et le Développement Durable (SP/CONEDD)  : <br/>Government of Madagascar - Office National pour l'Environnement (ONE)  : <br/> <br/>Major Groups:  : <br/>International Center of Resources and Innovation for the Sustainable Development-CIRIDD (former Association Agora 21) (France)  : <br/>Information Network for Sustainable Development in Central Africa (RIDDAC) (Cameroon)  : <br/>Agence Universitaire de la Francophonie (AUF) (Canada)  : <br/>Centre International UNISFERA (Canada)  : <br/>Observatoire de l'Écopolitique Internationale / Institut des sciences de l'environnement/Université du Québec à Montréal (UQAM) (Canada)  : <br/>Network for Environment and Sustainable Development in Africa (REDDA/NESDA) (Côte d'Ivoire)  : <br/>ARMINES - École Nationale Supérieure des Mines de Saint-Etienne (France)  : <br/>YIL Agence (France)  : <br/>Agence Internationale pour le Développement de l'Information Environnementale (ADIE) (Gabon)  : <br/>Alliance Maghreb pour l'Eau (ALMAE ) (Morocco)  : <br/>Environnement et Développement du Tiers-Monde (ENDA) (Senegal)  : <br/> <br/>Other intergovernmental organizations:  : <br/>Organisation Internationale de la Francophonie (IEPF - Institut de la Francophonie Numérique - Unité Jeunesse) (France)  : <br/>Comité permanent Inter-États de Lutte contre la Sécheresse au Sahel (CILSS) (Burkina Faso)  : <br/> <br/>Other:  : <br/>Assemblée Parlementaire de la Francophonie (APF) (France)  : <br/>Groupe Medialternatif (Haiti)  : <br/> <br/>\n"
     ]
    }
   ],
   "source": [
    "def get_description():\n",
    "    des_raw = soup.find(id='intro').find('div', attrs={'class':'wrap'})\n",
    "    des_lst = []\n",
    "\n",
    "    temp=re.sub( r'<p><\\/p>', '', str(des_raw))\n",
    "    temp=temp.replace(r'</div>','')\n",
    "#     temp=temp.replace(r'<[a-z\\/]*>','')\n",
    "    \n",
    "    \n",
    "\n",
    "    for des in temp.split('<div id=\"subHeadline\">'):\n",
    "        temp = re.sub(r'[\\r\\n]+', ' : ', des.strip())\n",
    "        temp = re.sub(r'[\\x91\\x92]', '\\'', temp)\n",
    "        des_lst.append(temp)\n",
    "\n",
    "    # remove stuff in the begining\n",
    "    try:\n",
    "        des_lst.remove('<div class=\"wrap\" style=\"margin-bottom:10px;\">')\n",
    "    except:\n",
    "        pass\n",
    "    \n",
    "    return ' || '.join(des_lst)\n",
    "    \n",
    "print(get_description())"
   ]
  },
  {
   "cell_type": "markdown",
   "metadata": {},
   "source": [
    "# Partner"
   ]
  },
  {
   "cell_type": "code",
   "execution_count": 212,
   "metadata": {
    "scrolled": false
   },
   "outputs": [
    {
     "data": {
      "text/plain": [
       "'Partners : 1) Ministry of Sustainable Development and Tourism || 2) Environmental Protection Agency || 3) Public Enterprise for Public Maritime Domain Management || 4) local self-governments in the coastal zone'"
      ]
     },
     "execution_count": 212,
     "metadata": {},
     "output_type": "execute_result"
    }
   ],
   "source": [
    "home_right = soup.find('div', attrs={'class':'homeRight'})\n",
    "\n",
    "home_right_raw_lst = home_right.getText().split('\\n')\n",
    "home_right_raw_lst = [item.strip() for item in home_right_raw_lst]\n",
    "home_right_raw_lst = list(filter(None, home_right_raw_lst))\n",
    "\n",
    "\n",
    "# countries_index = home_right_raw_lst.index('Countries') + 1\n",
    "# contact_index = home_right_raw_lst.index('Contact information')\n",
    "# countries = home_right_raw_lst[countries_index:contact_index] if countries_index != contact_index else ''\n",
    "# return 'Countries : ' + \",\".join(countries)\n",
    "\n",
    "partner_index = home_right_raw_lst.index('Partners') + 1\n",
    "\n",
    "\n",
    "next_index = home_right_raw_lst.index('Ocean Basins') \\\n",
    "                if len(r.history) and 'the ocean conference' in soup.title.text.lower() \\\n",
    "                else home_right_raw_lst.index('Countries')\n",
    "\n",
    "partners = home_right_raw_lst[partner_index:next_index]\n",
    "partners = 'Partners : ' + ' || '.join(partners)\n",
    "\n",
    "partners"
   ]
  },
  {
   "cell_type": "code",
   "execution_count": 213,
   "metadata": {},
   "outputs": [
    {
     "name": "stdout",
     "output_type": "stream",
     "text": [
      "Partners : 1) Ministry of Sustainable Development and Tourism || 2) Environmental Protection Agency || 3) Public Enterprise for Public Maritime Domain Management || 4) local self-governments in the coastal zone\n"
     ]
    }
   ],
   "source": [
    "print(partners)"
   ]
  },
  {
   "cell_type": "code",
   "execution_count": 205,
   "metadata": {},
   "outputs": [
    {
     "data": {
      "text/plain": [
       "''"
      ]
     },
     "execution_count": 205,
     "metadata": {},
     "output_type": "execute_result"
    }
   ],
   "source": [
    "'\\r'.strip()"
   ]
  },
  {
   "cell_type": "code",
   "execution_count": 214,
   "metadata": {},
   "outputs": [
    {
     "data": {
      "text/plain": [
       "\"'1) Ministry of Sustainable Development and Tourism || 2) Environmental Protection Agency || 3) Public Enterprise for Public Maritime Domain Management || 4) local self-governments in the coastal zone'\""
      ]
     },
     "execution_count": 214,
     "metadata": {},
     "output_type": "execute_result"
    }
   ],
   "source": [
    "def get_partners():\n",
    "    partner_index = home_right_raw_lst.index('Partners') + 1\n",
    "    next_index = home_right_raw_lst.index('Ocean Basins') \\\n",
    "                    if len(r.history) and 'the ocean conference' in soup.title.text.lower() \\\n",
    "                    else home_right_raw_lst.index('Countries')\n",
    "            \n",
    "    partners = [p.strip() for p in home_right_raw_lst[partner_index:next_index]]\n",
    "\n",
    "    return ' || '.join(partners)\n",
    "\n",
    "repr(get_partners())"
   ]
  },
  {
   "cell_type": "markdown",
   "metadata": {},
   "source": [
    "# Time Frame"
   ]
  },
  {
   "cell_type": "code",
   "execution_count": 198,
   "metadata": {},
   "outputs": [
    {
     "data": {
      "text/plain": [
       "'Time-frame:  - 2022-12-31'"
      ]
     },
     "execution_count": 198,
     "metadata": {},
     "output_type": "execute_result"
    }
   ],
   "source": [
    "time_frame_index  = [i for i, item in enumerate(home_right_raw_lst) if re.search('Time-frame', item)]\n",
    "time_frame = home_right_raw_lst[time_frame_index[0]] if len(time_frame_index) == 1 else 'Time-frame: '\n",
    "time_frame"
   ]
  },
  {
   "cell_type": "code",
   "execution_count": 199,
   "metadata": {},
   "outputs": [
    {
     "data": {
      "text/plain": [
       "'Time-frame:  - 2022-12-31'"
      ]
     },
     "execution_count": 199,
     "metadata": {},
     "output_type": "execute_result"
    }
   ],
   "source": [
    "def get_timeframe():\n",
    "    time_frame_index  = [i for i, item in enumerate(home_right_raw_lst) if re.search('Time-frame', item)]\n",
    "    return home_right_raw_lst[time_frame_index[0]] if len(time_frame_index) == 1 else 'Time-frame: '\n",
    "\n",
    "get_timeframe()"
   ]
  },
  {
   "cell_type": "markdown",
   "metadata": {},
   "source": [
    "# Country"
   ]
  },
  {
   "cell_type": "code",
   "execution_count": 200,
   "metadata": {},
   "outputs": [
    {
     "data": {
      "text/plain": [
       "'Countries : '"
      ]
     },
     "execution_count": 200,
     "metadata": {},
     "output_type": "execute_result"
    }
   ],
   "source": [
    "countries_index = home_right_raw_lst.index('Countries') + 1\n",
    "contact_index = home_right_raw_lst.index('Contact information')\n",
    "countries = home_right_raw_lst[countries_index:contact_index] if countries_index != contact_index else ''\n",
    "countries = 'Countries : ' + \",\".join(countries)\n",
    "countries"
   ]
  },
  {
   "cell_type": "code",
   "execution_count": 201,
   "metadata": {},
   "outputs": [
    {
     "data": {
      "text/plain": [
       "'Countries : '"
      ]
     },
     "execution_count": 201,
     "metadata": {},
     "output_type": "execute_result"
    }
   ],
   "source": [
    "def get_countries():\n",
    "    countries_index = home_right_raw_lst.index('Countries') + 1\n",
    "    contact_index = home_right_raw_lst.index('Contact information')\n",
    "    countries = home_right_raw_lst[countries_index:contact_index] if countries_index != contact_index else ''\n",
    "    return 'Countries : ' + \",\".join(countries)\n",
    "\n",
    "get_countries()"
   ]
  },
  {
   "cell_type": "markdown",
   "metadata": {},
   "source": [
    "# tweet"
   ]
  },
  {
   "cell_type": "code",
   "execution_count": 202,
   "metadata": {},
   "outputs": [
    {
     "data": {
      "text/plain": [
       "'#SDGAction1578'"
      ]
     },
     "execution_count": 202,
     "metadata": {},
     "output_type": "execute_result"
    }
   ],
   "source": [
    "tweet_re = re.compile(r'#[a-zA-z]+[0-9]+')\n",
    "newlist = list(filter(tweet_re.match, home_right_raw_lst))\n",
    "newlist[0]"
   ]
  },
  {
   "cell_type": "code",
   "execution_count": null,
   "metadata": {},
   "outputs": [],
   "source": []
  }
 ],
 "metadata": {
  "kernelspec": {
   "display_name": "Python 3",
   "language": "python",
   "name": "python3"
  },
  "language_info": {
   "codemirror_mode": {
    "name": "ipython",
    "version": 3
   },
   "file_extension": ".py",
   "mimetype": "text/x-python",
   "name": "python",
   "nbconvert_exporter": "python",
   "pygments_lexer": "ipython3",
   "version": "3.6.4"
  }
 },
 "nbformat": 4,
 "nbformat_minor": 2
}
